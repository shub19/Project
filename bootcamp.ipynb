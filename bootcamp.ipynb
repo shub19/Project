{
  "nbformat": 4,
  "nbformat_minor": 0,
  "metadata": {
    "kernelspec": {
      "display_name": "Python 3",
      "language": "python",
      "name": "python3"
    },
    "language_info": {
      "codemirror_mode": {
        "name": "ipython",
        "version": 3
      },
      "file_extension": ".py",
      "mimetype": "text/x-python",
      "name": "python",
      "nbconvert_exporter": "python",
      "pygments_lexer": "ipython3",
      "version": "3.6.5"
    },
    "colab": {
      "name": "bootcamp.ipynb",
      "provenance": [],
      "include_colab_link": true
    }
  },
  "cells": [
    {
      "cell_type": "markdown",
      "metadata": {
        "id": "view-in-github",
        "colab_type": "text"
      },
      "source": [
        "<a href=\"https://colab.research.google.com/github/shub19/Project/blob/master/bootcamp.ipynb\" target=\"_parent\"><img src=\"https://colab.research.google.com/assets/colab-badge.svg\" alt=\"Open In Colab\"/></a>"
      ]
    },
    {
      "cell_type": "code",
      "metadata": {
        "id": "Tksqp6xWq07u",
        "colab_type": "code",
        "colab": {}
      },
      "source": [
        "import numpy as np\n",
        "import torch"
      ],
      "execution_count": 0,
      "outputs": []
    },
    {
      "cell_type": "markdown",
      "metadata": {
        "id": "c3cVqOY5q08P",
        "colab_type": "text"
      },
      "source": [
        "### 10 minute NumPy Blitz\n",
        "Numpy is a super-useful array-processing package in python. Together with Scipy, it enables numerical and scientific computing in Python's workspace. It is intuitive, fast, and covers almost everything we can think of doing with with n-dimentional arrays\n",
        "\n",
        "The fundamental object of numpy is its array object:"
      ]
    },
    {
      "cell_type": "code",
      "metadata": {
        "id": "ft1Naub_q08k",
        "colab_type": "code",
        "colab": {
          "base_uri": "https://localhost:8080/",
          "height": 69
        },
        "outputId": "8c1bc087-3a80-4096-933e-06e9c7f1b90a"
      },
      "source": [
        "# This is a normal array (or 'list' as they call it in python)\n",
        "a = [1,2,3,5]\n",
        "print(type(a))\n",
        "\n",
        "# This is the same array converted to a numpy array\n",
        "b = np.array(a)\n",
        "print(b)\n",
        "print(type(b))\n"
      ],
      "execution_count": 2,
      "outputs": [
        {
          "output_type": "stream",
          "text": [
            "<class 'list'>\n",
            "[1 2 3 5]\n",
            "<class 'numpy.ndarray'>\n"
          ],
          "name": "stdout"
        }
      ]
    },
    {
      "cell_type": "code",
      "metadata": {
        "id": "-ddTcRK-rUEB",
        "colab_type": "code",
        "colab": {
          "base_uri": "https://localhost:8080/",
          "height": 712
        },
        "outputId": "f42b1f16-e256-4140-da61-0c67be0c75f2"
      },
      "source": [
        "a=[1,2,3,4,5,6]\n",
        "b=torch.tensor(a)\n",
        "print(a,b)\n",
        "print(b.size())\n",
        "b=b.reshape(2,3)\n",
        "print(b)\n",
        "z=np.zeros((3,4,2))\n",
        "print(z)\n",
        "q=torch.tensor(z)\n",
        "print(q,q.size())\n",
        "q=q.reshape((4,3,2))\n",
        "print(q.size())\n",
        "a=[1,2,3,4,5,6,7,8,9,10,11,12]\n",
        "a=torch.tensor(a)\n",
        "a=a.reshape(2,3,2)\n",
        "print(a)"
      ],
      "execution_count": 22,
      "outputs": [
        {
          "output_type": "stream",
          "text": [
            "[1, 2, 3, 4, 5, 6] tensor([1, 2, 3, 4, 5, 6])\n",
            "torch.Size([6])\n",
            "tensor([[1, 2, 3],\n",
            "        [4, 5, 6]])\n",
            "[[[0. 0.]\n",
            "  [0. 0.]\n",
            "  [0. 0.]\n",
            "  [0. 0.]]\n",
            "\n",
            " [[0. 0.]\n",
            "  [0. 0.]\n",
            "  [0. 0.]\n",
            "  [0. 0.]]\n",
            "\n",
            " [[0. 0.]\n",
            "  [0. 0.]\n",
            "  [0. 0.]\n",
            "  [0. 0.]]]\n",
            "tensor([[[0., 0.],\n",
            "         [0., 0.],\n",
            "         [0., 0.],\n",
            "         [0., 0.]],\n",
            "\n",
            "        [[0., 0.],\n",
            "         [0., 0.],\n",
            "         [0., 0.],\n",
            "         [0., 0.]],\n",
            "\n",
            "        [[0., 0.],\n",
            "         [0., 0.],\n",
            "         [0., 0.],\n",
            "         [0., 0.]]], dtype=torch.float64) torch.Size([3, 4, 2])\n",
            "torch.Size([4, 3, 2])\n",
            "tensor([[[ 1,  2],\n",
            "         [ 3,  4],\n",
            "         [ 5,  6]],\n",
            "\n",
            "        [[ 7,  8],\n",
            "         [ 9, 10],\n",
            "         [11, 12]]])\n"
          ],
          "name": "stdout"
        }
      ]
    },
    {
      "cell_type": "code",
      "metadata": {
        "id": "XluX36ygq085",
        "colab_type": "code",
        "colab": {
          "base_uri": "https://localhost:8080/",
          "height": 104
        },
        "outputId": "52a9fb43-1276-42bd-d02a-3c6b198788e8"
      },
      "source": [
        "# Let's define a multi-dimensional array\n",
        "a = [[1,2],[2,4],[4,1],[2,5]]\n",
        "\n",
        "b = np.array(a)\n",
        "print(b)\n",
        "print(type(b))"
      ],
      "execution_count": 3,
      "outputs": [
        {
          "output_type": "stream",
          "text": [
            "[[1 2]\n",
            " [2 4]\n",
            " [4 1]\n",
            " [2 5]]\n",
            "<class 'numpy.ndarray'>\n"
          ],
          "name": "stdout"
        }
      ]
    },
    {
      "cell_type": "code",
      "metadata": {
        "id": "kSEKEe4mq09M",
        "colab_type": "code",
        "colab": {
          "base_uri": "https://localhost:8080/",
          "height": 69
        },
        "outputId": "d41e38b4-e913-4748-9152-4fed202e145c"
      },
      "source": [
        "# To know the shape of a numpy array, get the shape variable\n",
        "c = b.shape\n",
        "print(c)\n",
        "print(type(c))\n",
        "\n",
        "# the shape of a numpy array is a tuple consisting of the number of dimensions.\n",
        "print(b.shape[0], b.shape[1])"
      ],
      "execution_count": 4,
      "outputs": [
        {
          "output_type": "stream",
          "text": [
            "(4, 2)\n",
            "<class 'tuple'>\n",
            "4 2\n"
          ],
          "name": "stdout"
        }
      ]
    },
    {
      "cell_type": "code",
      "metadata": {
        "id": "xbAwY_dXq09g",
        "colab_type": "code",
        "colab": {
          "base_uri": "https://localhost:8080/",
          "height": 225
        },
        "outputId": "274c6349-33e4-4e52-8f66-90d949d4bb00"
      },
      "source": [
        "# We can initialize a numpy array in other ways too:\n",
        "a = np.zeros((3,4))\n",
        "print(a)\n",
        "print(a.shape)\n",
        "\n",
        "b = np.ones((3,4))\n",
        "print(b)\n",
        "print(b.shape)\n",
        "\n",
        "c = np.random.random((3,4))\n",
        "print(c)\n",
        "print(c.shape)"
      ],
      "execution_count": 5,
      "outputs": [
        {
          "output_type": "stream",
          "text": [
            "[[0. 0. 0. 0.]\n",
            " [0. 0. 0. 0.]\n",
            " [0. 0. 0. 0.]]\n",
            "(3, 4)\n",
            "[[1. 1. 1. 1.]\n",
            " [1. 1. 1. 1.]\n",
            " [1. 1. 1. 1.]]\n",
            "(3, 4)\n",
            "[[0.02296955 0.92983487 0.47058818 0.86842185]\n",
            " [0.95298597 0.72941063 0.6862208  0.84954634]\n",
            " [0.43992213 0.91993525 0.62966499 0.72605014]]\n",
            "(3, 4)\n"
          ],
          "name": "stdout"
        }
      ]
    },
    {
      "cell_type": "code",
      "metadata": {
        "id": "RE03i31tq090",
        "colab_type": "code",
        "colab": {
          "base_uri": "https://localhost:8080/",
          "height": 208
        },
        "outputId": "8d3491ab-57a3-4665-855c-bf6d739d7c57"
      },
      "source": [
        "# We can reshape the numpy arrays using reshape \n",
        "d = c.reshape(3,2,2)\n",
        "print(c)\n",
        "print(d)"
      ],
      "execution_count": 6,
      "outputs": [
        {
          "output_type": "stream",
          "text": [
            "[[0.02296955 0.92983487 0.47058818 0.86842185]\n",
            " [0.95298597 0.72941063 0.6862208  0.84954634]\n",
            " [0.43992213 0.91993525 0.62966499 0.72605014]]\n",
            "[[[0.02296955 0.92983487]\n",
            "  [0.47058818 0.86842185]]\n",
            "\n",
            " [[0.95298597 0.72941063]\n",
            "  [0.6862208  0.84954634]]\n",
            "\n",
            " [[0.43992213 0.91993525]\n",
            "  [0.62966499 0.72605014]]]\n"
          ],
          "name": "stdout"
        }
      ]
    },
    {
      "cell_type": "code",
      "metadata": {
        "id": "tCq1MZAEq0-D",
        "colab_type": "code",
        "colab": {
          "base_uri": "https://localhost:8080/",
          "height": 191
        },
        "outputId": "ba1f6062-2960-4c84-a9d2-2c4d5fbf97ef"
      },
      "source": [
        "# We can also perform aggregation operators in numpy\n",
        "sum_d = d.sum()\n",
        "print(sum_d)\n",
        "print(d.mean())\n",
        "print(d.var())\n",
        "print('\\n')\n",
        "\n",
        "# We can also aggregate along a specific dimension\n",
        "sum_d_0 = d.sum(0)\n",
        "print(sum_d_0)\n",
        "\n",
        "sum_d_1 = d.sum(1)\n",
        "print(sum_d_1)\n",
        "\n",
        "# Notice the shapes after summing in a particular dimension\n",
        "# Aggregation operation marginalizes across that dimension\n",
        "# So a 3x2x2 shaped array summed in dimesion 0 becomes 2x2 shaped"
      ],
      "execution_count": 7,
      "outputs": [
        {
          "output_type": "stream",
          "text": [
            "8.225550704002357\n",
            "0.6854625586668631\n",
            "0.06655937094501237\n",
            "\n",
            "\n",
            "[[1.41587765 2.57918076]\n",
            " [1.78647397 2.44401833]]\n",
            "[[0.49355773 1.79825673]\n",
            " [1.63920677 1.57895697]\n",
            " [1.06958712 1.64598539]]\n"
          ],
          "name": "stdout"
        }
      ]
    },
    {
      "cell_type": "code",
      "metadata": {
        "id": "mGuBJSnxq0-U",
        "colab_type": "code",
        "colab": {
          "base_uri": "https://localhost:8080/",
          "height": 156
        },
        "outputId": "cab81e5c-0e93-4409-f7a4-c2e4d770a474"
      },
      "source": [
        "# We can save and load numpy arrays in binary format using this:\n",
        "np.save('save_d.npy', d)\n",
        "e = np.load('save_d.npy')\n",
        "print(e)"
      ],
      "execution_count": 8,
      "outputs": [
        {
          "output_type": "stream",
          "text": [
            "[[[0.02296955 0.92983487]\n",
            "  [0.47058818 0.86842185]]\n",
            "\n",
            " [[0.95298597 0.72941063]\n",
            "  [0.6862208  0.84954634]]\n",
            "\n",
            " [[0.43992213 0.91993525]\n",
            "  [0.62966499 0.72605014]]]\n"
          ],
          "name": "stdout"
        }
      ]
    },
    {
      "cell_type": "markdown",
      "metadata": {
        "id": "3biRBkolq0-p",
        "colab_type": "text"
      },
      "source": [
        "### 10 minute PyTorch intro\n",
        "PyTorch is a general purpose deep-learning python library. Just like NumPy has numpy arrays, at the core of PyTorch are pytorch tensors. On surface (and for a 10 minute blitz), they operate in a similar way as numpy arrays. Let's see how:"
      ]
    },
    {
      "cell_type": "code",
      "metadata": {
        "id": "o08huNHdq0-u",
        "colab_type": "code",
        "colab": {
          "base_uri": "https://localhost:8080/",
          "height": 52
        },
        "outputId": "e8ccf75c-e07d-4f78-83ca-e93d62f74288"
      },
      "source": [
        "a = [1,2,3,4,5]\n",
        "b = torch.tensor(a)\n",
        "print(b)\n",
        "print(type(b))"
      ],
      "execution_count": 9,
      "outputs": [
        {
          "output_type": "stream",
          "text": [
            "tensor([1, 2, 3, 4, 5])\n",
            "<class 'torch.Tensor'>\n"
          ],
          "name": "stdout"
        }
      ]
    },
    {
      "cell_type": "code",
      "metadata": {
        "id": "X-Wrxzl-q0_A",
        "colab_type": "code",
        "colab": {
          "base_uri": "https://localhost:8080/",
          "height": 295
        },
        "outputId": "0d3115f1-4a82-46a4-8caa-2b41b21dac0d"
      },
      "source": [
        "# We can also convert a numpy array into pytorch variable\n",
        "f = torch.tensor(e)\n",
        "print(f)\n",
        "\n",
        "# now deprecated, but can be seen in old codes\n",
        "g = torch.from_numpy(e) \n",
        "print(g)"
      ],
      "execution_count": 10,
      "outputs": [
        {
          "output_type": "stream",
          "text": [
            "tensor([[[0.0230, 0.9298],\n",
            "         [0.4706, 0.8684]],\n",
            "\n",
            "        [[0.9530, 0.7294],\n",
            "         [0.6862, 0.8495]],\n",
            "\n",
            "        [[0.4399, 0.9199],\n",
            "         [0.6297, 0.7261]]], dtype=torch.float64)\n",
            "tensor([[[0.0230, 0.9298],\n",
            "         [0.4706, 0.8684]],\n",
            "\n",
            "        [[0.9530, 0.7294],\n",
            "         [0.6862, 0.8495]],\n",
            "\n",
            "        [[0.4399, 0.9199],\n",
            "         [0.6297, 0.7261]]], dtype=torch.float64)\n"
          ],
          "name": "stdout"
        }
      ]
    },
    {
      "cell_type": "code",
      "metadata": {
        "id": "sB2R0QqUq0_U",
        "colab_type": "code",
        "colab": {
          "base_uri": "https://localhost:8080/",
          "height": 104
        },
        "outputId": "318cfd5b-0fb3-4a87-cd4c-4af4ae949244"
      },
      "source": [
        "# Just like numpy, tensors have shapes (also called sizes)\n",
        "print(g.shape)\n",
        "print(g.size())\n",
        "\n",
        "# And we can reshape the tensors\n",
        "h = g.reshape(3,4)\n",
        "print(h)"
      ],
      "execution_count": 11,
      "outputs": [
        {
          "output_type": "stream",
          "text": [
            "torch.Size([3, 2, 2])\n",
            "torch.Size([3, 2, 2])\n",
            "tensor([[0.0230, 0.9298, 0.4706, 0.8684],\n",
            "        [0.9530, 0.7294, 0.6862, 0.8495],\n",
            "        [0.4399, 0.9199, 0.6297, 0.7261]], dtype=torch.float64)\n"
          ],
          "name": "stdout"
        }
      ]
    },
    {
      "cell_type": "code",
      "metadata": {
        "id": "WCL382TDq0_n",
        "colab_type": "code",
        "colab": {
          "base_uri": "https://localhost:8080/",
          "height": 69
        },
        "outputId": "a9dc8522-ed8d-4cbe-e3b9-59cba6879862"
      },
      "source": [
        "# We can also save and load torch tensors\n",
        "torch.save(h, 'save_torch.pt')\n",
        "i = torch.load('save_torch.pt')\n",
        "print(i)"
      ],
      "execution_count": 12,
      "outputs": [
        {
          "output_type": "stream",
          "text": [
            "tensor([[0.0230, 0.9298, 0.4706, 0.8684],\n",
            "        [0.9530, 0.7294, 0.6862, 0.8495],\n",
            "        [0.4399, 0.9199, 0.6297, 0.7261]], dtype=torch.float64)\n"
          ],
          "name": "stdout"
        }
      ]
    },
    {
      "cell_type": "markdown",
      "metadata": {
        "id": "mt9_BuBAq0_6",
        "colab_type": "text"
      },
      "source": [
        "With this brief intro to pytorch and numpy, we'll begin looking at the problem set"
      ]
    }
  ]
}